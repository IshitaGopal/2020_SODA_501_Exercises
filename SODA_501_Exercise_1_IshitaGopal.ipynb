{
 "cells": [
  {
   "cell_type": "code",
   "execution_count": 310,
   "metadata": {},
   "outputs": [],
   "source": [
    "import matplotlib.pyplot as plt\n",
    "import pandas as pd\n",
    "import itertools\n",
    "import csv\n"
   ]
  },
  {
   "cell_type": "code",
   "execution_count": 209,
   "metadata": {},
   "outputs": [],
   "source": [
    "pd.set_option('display.max_rows', 500)\n",
    "pd.set_option('display.max_columns', 500)\n",
    "pd.set_option('display.width', 1000)\n"
   ]
  },
  {
   "cell_type": "code",
   "execution_count": 81,
   "metadata": {},
   "outputs": [],
   "source": [
    "# file with n-gram counts\n",
    "file1 = \"/Users/ishitagopal/Box/SODA_501/Exercise_1/googlebooks-eng-all-1gram-20120701-1\"\n",
    "\n",
    "# file with total counts\n",
    "file2 = \"/Users/ishitagopal/Box/SODA_501/Exercise_1/googlebooks-eng-all-totalcounts-20120701.txt\""
   ]
  },
  {
   "cell_type": "code",
   "execution_count": 196,
   "metadata": {},
   "outputs": [],
   "source": [
    "### subset data from file1 ###\n",
    "# Read file1 line by line\n",
    "# subset the data such that:\n",
    "# 1) the n-grams are = '1883', '1910' and '1950';\n",
    "# 2) the year is between 1850 and 2001\n",
    "# store the rows which staisfy these 2 in conditions in 'subset' as a list of lists\n",
    "\n",
    "with open(filepath) as infile:\n",
    "    subset = []\n",
    "    for line in infile:\n",
    "        row = line.rstrip('\\n').split('\\t')\n",
    "        if (row[0] == '1883' or row[0] =='1910' or row[0] == '1950') and (int(row[1]) in list(range(1850,2001))):\n",
    "            subset.append(row)\n"
   ]
  },
  {
   "cell_type": "code",
   "execution_count": 281,
   "metadata": {},
   "outputs": [],
   "source": [
    "# Make a dataframe using 'subset'\n",
    "# column name assignment is based on the description on Google Books Ngram Viewer\n",
    "#(ngram) TAB (year) TAB (match_count) TAB (volume_count) NEWLINE\n",
    "\n",
    "NGram = pd.DataFrame(columns=['1gram','year','match_count','volume_count'], data = subset)"
   ]
  },
  {
   "cell_type": "code",
   "execution_count": 282,
   "metadata": {},
   "outputs": [],
   "source": [
    "# Convert all columns to int\n",
    "NGram.dtypes\n",
    "NGram = NGram.astype('int')"
   ]
  },
  {
   "cell_type": "code",
   "execution_count": 262,
   "metadata": {},
   "outputs": [],
   "source": [
    "### Read file2 which has tot_counts data ###\n",
    "# create a list of lists\n",
    "\n",
    "with open(file2) as f:\n",
    "    totcounts = []\n",
    "    reader=csv.reader(f,delimiter='\\t')\n",
    "    for line in reader:\n",
    "        for item in line:\n",
    "            row = item.split(',')\n",
    "            totcounts.append(row)\n",
    "        \n"
   ]
  },
  {
   "cell_type": "code",
   "execution_count": 283,
   "metadata": {},
   "outputs": [],
   "source": [
    "# totcounts[1:426]"
   ]
  },
  {
   "cell_type": "code",
   "execution_count": 284,
   "metadata": {},
   "outputs": [],
   "source": [
    "# Create a dataframe for total_counts data stored in 'totcounts' above\n",
    "# The column names follow the description given on Google Books Ngram Viewer\n",
    "# One triplet of values (match_count, page_count, volume_count) per year\n",
    "\n",
    "Totcounts = pd.DataFrame(columns=['year','match_count', 'page_count', 'volume_count'],data=totcounts[1:426])"
   ]
  },
  {
   "cell_type": "code",
   "execution_count": 285,
   "metadata": {},
   "outputs": [],
   "source": [
    "# Convert all columns to int\n",
    "Totcounts.dtypes\n",
    "Totcounts = Totcounts.astype('int')"
   ]
  },
  {
   "cell_type": "code",
   "execution_count": 287,
   "metadata": {},
   "outputs": [],
   "source": [
    "# Totcounts"
   ]
  },
  {
   "cell_type": "code",
   "execution_count": 288,
   "metadata": {},
   "outputs": [],
   "source": [
    "# Subset 'Totcounts' such that it only contains information on years between 1850 and 2000\n",
    "Totcounts_1850_2000 = Totcounts[(Totcounts['year']>=1850) & (Totcounts['year']<=2000)]"
   ]
  },
  {
   "cell_type": "code",
   "execution_count": 347,
   "metadata": {},
   "outputs": [],
   "source": [
    "#Totcounts_1850_2000"
   ]
  },
  {
   "cell_type": "code",
   "execution_count": 291,
   "metadata": {},
   "outputs": [],
   "source": [
    "# Creat a different dataframe associated with each of the three 1-grams in question -- '1883', '1910', '1950'\n",
    "y1883 = NGram[NGram['1gram']==1883]\n",
    "y1910 = NGram[NGram['1gram']==1910]\n",
    "y1950 = NGram[NGram['1gram']==1950]"
   ]
  },
  {
   "cell_type": "code",
   "execution_count": 290,
   "metadata": {},
   "outputs": [
    {
     "data": {
      "text/plain": [
       "True"
      ]
     },
     "execution_count": 290,
     "metadata": {},
     "output_type": "execute_result"
    }
   ],
   "source": [
    "# Checking if subseting is correct\n",
    "len(Totcounts_1850_2000) == len(NGram)/3\n"
   ]
  },
  {
   "cell_type": "code",
   "execution_count": 292,
   "metadata": {},
   "outputs": [],
   "source": [
    "# Extract the column match_count from Totcounts_1850_2000\n",
    "# match_count gives the total number of words in the corpus in a particular year -- this is required to calculate the frequency\n",
    "tot_match_count=Totcounts_1850_2000.loc[:,'match_count'].tolist()"
   ]
  },
  {
   "cell_type": "code",
   "execution_count": 308,
   "metadata": {},
   "outputs": [
    {
     "data": {
      "text/plain": [
       "151"
      ]
     },
     "execution_count": 308,
     "metadata": {},
     "output_type": "execute_result"
    }
   ],
   "source": [
    "len(tot_match_count)"
   ]
  },
  {
   "cell_type": "code",
   "execution_count": 342,
   "metadata": {},
   "outputs": [
    {
     "name": "stderr",
     "output_type": "stream",
     "text": [
      "/Users/ishitagopal/opt/anaconda3/lib/python3.7/site-packages/ipykernel_launcher.py:3: SettingWithCopyWarning: \n",
      "A value is trying to be set on a copy of a slice from a DataFrame.\n",
      "Try using .loc[row_indexer,col_indexer] = value instead\n",
      "\n",
      "See the caveats in the documentation: http://pandas.pydata.org/pandas-docs/stable/user_guide/indexing.html#returning-a-view-versus-a-copy\n",
      "  This is separate from the ipykernel package so we can avoid doing imports until\n",
      "/Users/ishitagopal/opt/anaconda3/lib/python3.7/site-packages/ipykernel_launcher.py:4: SettingWithCopyWarning: \n",
      "A value is trying to be set on a copy of a slice from a DataFrame.\n",
      "Try using .loc[row_indexer,col_indexer] = value instead\n",
      "\n",
      "See the caveats in the documentation: http://pandas.pydata.org/pandas-docs/stable/user_guide/indexing.html#returning-a-view-versus-a-copy\n",
      "  after removing the cwd from sys.path.\n"
     ]
    }
   ],
   "source": [
    "# attach total match_count to each of three data frames\n",
    "\n",
    "y1883['tot_match_count']=tot_match_count\n",
    "y1883['frequency']=(y1883['match_count']/y1883['tot_match_count'])*10000"
   ]
  },
  {
   "cell_type": "code",
   "execution_count": 343,
   "metadata": {},
   "outputs": [
    {
     "name": "stderr",
     "output_type": "stream",
     "text": [
      "/Users/ishitagopal/opt/anaconda3/lib/python3.7/site-packages/ipykernel_launcher.py:1: SettingWithCopyWarning: \n",
      "A value is trying to be set on a copy of a slice from a DataFrame.\n",
      "Try using .loc[row_indexer,col_indexer] = value instead\n",
      "\n",
      "See the caveats in the documentation: http://pandas.pydata.org/pandas-docs/stable/user_guide/indexing.html#returning-a-view-versus-a-copy\n",
      "  \"\"\"Entry point for launching an IPython kernel.\n",
      "/Users/ishitagopal/opt/anaconda3/lib/python3.7/site-packages/ipykernel_launcher.py:2: SettingWithCopyWarning: \n",
      "A value is trying to be set on a copy of a slice from a DataFrame.\n",
      "Try using .loc[row_indexer,col_indexer] = value instead\n",
      "\n",
      "See the caveats in the documentation: http://pandas.pydata.org/pandas-docs/stable/user_guide/indexing.html#returning-a-view-versus-a-copy\n",
      "  \n"
     ]
    }
   ],
   "source": [
    "y1910['tot_match_count']=tot_match_count\n",
    "y1910['frequency']=(y1910['match_count']/y1910['tot_match_count'])*10000"
   ]
  },
  {
   "cell_type": "code",
   "execution_count": 344,
   "metadata": {},
   "outputs": [
    {
     "name": "stderr",
     "output_type": "stream",
     "text": [
      "/Users/ishitagopal/opt/anaconda3/lib/python3.7/site-packages/ipykernel_launcher.py:1: SettingWithCopyWarning: \n",
      "A value is trying to be set on a copy of a slice from a DataFrame.\n",
      "Try using .loc[row_indexer,col_indexer] = value instead\n",
      "\n",
      "See the caveats in the documentation: http://pandas.pydata.org/pandas-docs/stable/user_guide/indexing.html#returning-a-view-versus-a-copy\n",
      "  \"\"\"Entry point for launching an IPython kernel.\n",
      "/Users/ishitagopal/opt/anaconda3/lib/python3.7/site-packages/ipykernel_launcher.py:2: SettingWithCopyWarning: \n",
      "A value is trying to be set on a copy of a slice from a DataFrame.\n",
      "Try using .loc[row_indexer,col_indexer] = value instead\n",
      "\n",
      "See the caveats in the documentation: http://pandas.pydata.org/pandas-docs/stable/user_guide/indexing.html#returning-a-view-versus-a-copy\n",
      "  \n"
     ]
    }
   ],
   "source": [
    "y1950['tot_match_count']=tot_match_count\n",
    "y1950['frequency']=(y1950['match_count']/y1950['tot_match_count'])*10000"
   ]
  },
  {
   "cell_type": "code",
   "execution_count": 340,
   "metadata": {},
   "outputs": [
    {
     "data": {
      "text/plain": [
       "0.00015321571800165033"
      ]
     },
     "execution_count": 340,
     "metadata": {},
     "output_type": "execute_result"
    }
   ],
   "source": [
    "# When does \n",
    "max(y1883['frequency']) #--> 1884 = 5.301490129098362e-05\n",
    "max(y1910['frequency']) #--> 1910 = 7.943655202710247e-05\n",
    "max(y1950['frequency']) #-->  1955= 0.00015321571800165033\n"
   ]
  },
  {
   "cell_type": "code",
   "execution_count": 346,
   "metadata": {
    "scrolled": true
   },
   "outputs": [
    {
     "data": {
      "image/png": "[encoded data removed]",
      "text/plain": [
       "<Figure size 432x288 with 1 Axes>"
      ]
     },
     "metadata": {
      "needs_background": "light"
     },
     "output_type": "display_data"
    }
   ],
   "source": [
    "# Plot frequencies \n",
    "\n",
    "plt.plot(y1883['year'],y1883['frequency'],color=\"blue\" )\n",
    "plt.plot(y1910['year'],y1910['frequency'],color=\"red\" )\n",
    "plt.plot(y1950['year'],y1950['frequency'],color=\"green\" )\n",
    "plt.legend(['1883', '1910', '1950'], loc='upper right')\n",
    "plt.xlabel('Year')\n",
    "plt.ylabel('Frequency (1e-4)')\n",
    "plt.show()\n"
   ]
  },
  {
   "cell_type": "markdown",
   "metadata": {},
   "source": [
    "#### (b) Yes, version 2 of the NGram data produce similar results to those presented in Michel et al. (2011), which are based on version 1 data.\n",
    "#### (c) Checked my graph against the graph created by the NGram Viewer"
   ]
  },
  {
   "cell_type": "code",
   "execution_count": null,
   "metadata": {},
   "outputs": [],
   "source": []
  }
 ],
 "metadata": {
  "kernelspec": {
   "display_name": "Python 3",
   "language": "python",
   "name": "python3"
  },
  "language_info": {
   "codemirror_mode": {
    "name": "ipython",
    "version": 3
   },
   "file_extension": ".py",
   "mimetype": "text/x-python",
   "name": "python",
   "nbconvert_exporter": "python",
   "pygments_lexer": "ipython3",
   "version": "3.7.4"
  }
 },
 "nbformat": 4,
 "nbformat_minor": 2
}
