{
 "cells": [
  {
   "cell_type": "code",
   "execution_count": 52,
   "metadata": {},
   "outputs": [],
   "source": [
    "import matplotlib.pyplot as plt\n",
    "import pandas as pd\n",
    "import numpy as np\n",
    "import itertools\n",
    "import csv\n"
   ]
  },
  {
   "cell_type": "code",
   "execution_count": 187,
   "metadata": {},
   "outputs": [],
   "source": [
    "pd.set_option('display.max_rows', 500)\n",
    "pd.set_option('display.max_columns', 500)\n",
    "pd.set_option('display.width', 1000)\n",
    "pd.set_option('mode.chained_assignment', None)\n"
   ]
  },
  {
   "cell_type": "code",
   "execution_count": 8,
   "metadata": {},
   "outputs": [],
   "source": [
    "# Importinmg data \n",
    "# file with n-gram counts\n",
    "file1 = \"googlebooks-eng-all-1gram-20120701-1\"\n",
    "\n",
    "# file with total counts\n",
    "file2 = \"googlebooks-eng-all-totalcounts-20120701.txt\""
   ]
  },
  {
   "cell_type": "markdown",
   "metadata": {},
   "source": [
    "### Data Cleaning and Subsetting"
   ]
  },
  {
   "cell_type": "code",
   "execution_count": 9,
   "metadata": {},
   "outputs": [],
   "source": [
    "### subset data from file1 ###\n",
    "# Read file1 line by line\n",
    "# subset the data such that:\n",
    "# 1) the n-grams are = '1883', '1910' and '1950';\n",
    "# 2) the year is between 1850 and 2001\n",
    "# store the rows which staisfy these 2 in conditions in 'subset' as a list of lists\n",
    "\n",
    "with open(file1) as infile:\n",
    "    subset = []\n",
    "    for line in infile:\n",
    "        row = line.rstrip('\\n').split('\\t')\n",
    "        if (row[0] == '1883' or row[0] =='1910' or row[0] == '1950') and (int(row[1]) in list(range(1850,2001))):\n",
    "            subset.append(row)\n"
   ]
  },
  {
   "cell_type": "code",
   "execution_count": 10,
   "metadata": {},
   "outputs": [],
   "source": [
    "# Make a dataframe using 'subset'\n",
    "# column name assignment is based on the description on Google Books Ngram Viewer\n",
    "#(ngram) TAB (year) TAB (match_count) TAB (volume_count) NEWLINE\n",
    "\n",
    "NGram = pd.DataFrame(columns=['1gram','year','match_count','volume_count'], data = subset)"
   ]
  },
  {
   "cell_type": "code",
   "execution_count": 11,
   "metadata": {},
   "outputs": [],
   "source": [
    "# Convert all columns to int\n",
    "NGram.dtypes\n",
    "NGram = NGram.astype('int')"
   ]
  },
  {
   "cell_type": "code",
   "execution_count": 12,
   "metadata": {},
   "outputs": [],
   "source": [
    "### Read file2 which has tot_counts data ###\n",
    "# create a list of lists\n",
    "\n",
    "with open(file2) as f:\n",
    "    totcounts = []\n",
    "    reader=csv.reader(f,delimiter='\\t')\n",
    "    for line in reader:\n",
    "        for item in line:\n",
    "            row = item.split(',')\n",
    "            totcounts.append(row)\n",
    "        \n"
   ]
  },
  {
   "cell_type": "code",
   "execution_count": 13,
   "metadata": {},
   "outputs": [],
   "source": [
    "# totcounts[1:426]"
   ]
  },
  {
   "cell_type": "code",
   "execution_count": 14,
   "metadata": {},
   "outputs": [],
   "source": [
    "# Create a dataframe for total_counts data stored in 'totcounts' above\n",
    "# The column names follow the description given on Google Books Ngram Viewer\n",
    "# One triplet of values (match_count, page_count, volume_count) per year\n",
    "\n",
    "Totcounts = pd.DataFrame(columns=['year','match_count', 'page_count', 'volume_count'],data=totcounts[1:426])"
   ]
  },
  {
   "cell_type": "code",
   "execution_count": 15,
   "metadata": {},
   "outputs": [],
   "source": [
    "# Convert all columns to int\n",
    "Totcounts.dtypes\n",
    "Totcounts = Totcounts.astype('int')"
   ]
  },
  {
   "cell_type": "code",
   "execution_count": 16,
   "metadata": {},
   "outputs": [],
   "source": [
    "# Totcounts"
   ]
  },
  {
   "cell_type": "code",
   "execution_count": 17,
   "metadata": {},
   "outputs": [],
   "source": [
    "# Subset 'Totcounts' such that it only contains information on years between 1850 and 2000\n",
    "Totcounts_1850_2000 = Totcounts[(Totcounts['year']>=1850) & (Totcounts['year']<=2000)]"
   ]
  },
  {
   "cell_type": "code",
   "execution_count": 18,
   "metadata": {},
   "outputs": [],
   "source": [
    "#Totcounts_1850_2000"
   ]
  },
  {
   "cell_type": "code",
   "execution_count": 19,
   "metadata": {},
   "outputs": [],
   "source": [
    "# Creat a different dataframe associated with each of the three 1-grams in question -- '1883', '1910', '1950'\n",
    "y1883 = NGram[NGram['1gram']==1883]\n",
    "y1910 = NGram[NGram['1gram']==1910]\n",
    "y1950 = NGram[NGram['1gram']==1950]"
   ]
  },
  {
   "cell_type": "code",
   "execution_count": 20,
   "metadata": {},
   "outputs": [
    {
     "data": {
      "text/plain": [
       "True"
      ]
     },
     "execution_count": 20,
     "metadata": {},
     "output_type": "execute_result"
    }
   ],
   "source": [
    "# Checking if subseting is correct\n",
    "len(Totcounts_1850_2000) == len(NGram)/3\n"
   ]
  },
  {
   "cell_type": "code",
   "execution_count": 21,
   "metadata": {},
   "outputs": [],
   "source": [
    "# Extract the column match_count from Totcounts_1850_2000\n",
    "# match_count gives the total number of words in the corpus in a particular year -- this is required to calculate the frequency\n",
    "tot_match_count=Totcounts_1850_2000.loc[:,'match_count'].tolist()"
   ]
  },
  {
   "cell_type": "code",
   "execution_count": 22,
   "metadata": {},
   "outputs": [
    {
     "data": {
      "text/plain": [
       "151"
      ]
     },
     "execution_count": 22,
     "metadata": {},
     "output_type": "execute_result"
    }
   ],
   "source": [
    "len(tot_match_count)"
   ]
  },
  {
   "cell_type": "code",
   "execution_count": 188,
   "metadata": {},
   "outputs": [],
   "source": [
    "# attach total match_count to each of three data frames\n",
    "\n",
    "y1883['tot_match_count']=tot_match_count\n",
    "y1883['frequency']=(y1883['match_count']/y1883['tot_match_count'])*10000"
   ]
  },
  {
   "cell_type": "code",
   "execution_count": 189,
   "metadata": {},
   "outputs": [],
   "source": [
    "y1910['tot_match_count']=tot_match_count\n",
    "y1910['frequency']=(y1910['match_count']/y1910['tot_match_count'])*10000"
   ]
  },
  {
   "cell_type": "code",
   "execution_count": 190,
   "metadata": {},
   "outputs": [],
   "source": [
    "y1950['tot_match_count']=tot_match_count\n",
    "y1950['frequency']=(y1950['match_count']/y1950['tot_match_count'])*10000"
   ]
  },
  {
   "cell_type": "markdown",
   "metadata": {
    "scrolled": false
   },
   "source": [
    "### Part (b)\n",
    "Recreate Figure 3a. How similar are the results?\n"
   ]
  },
  {
   "cell_type": "code",
   "execution_count": 346,
   "metadata": {
    "scrolled": false
   },
   "outputs": [
    {
     "data": {
      "image/png": "[encoded data removed]",
      "text/plain": [
       "<Figure size 432x288 with 1 Axes>"
      ]
     },
     "metadata": {
      "needs_background": "light"
     },
     "output_type": "display_data"
    }
   ],
   "source": [
    "# Plot frequencies \n",
    "\n",
    "plt.plot(y1883['year'],y1883['frequency'],color=\"blue\" )\n",
    "plt.plot(y1910['year'],y1910['frequency'],color=\"red\" )\n",
    "plt.plot(y1950['year'],y1950['frequency'],color=\"green\" )\n",
    "plt.legend(['1883', '1910', '1950'], loc='upper right')\n",
    "plt.xlabel('Year')\n",
    "plt.ylabel('Frequency (1e-4)')\n",
    "plt.show()\n"
   ]
  },
  {
   "cell_type": "markdown",
   "metadata": {},
   "source": [
    "Yes, version 2 of the NGram data produce similar results to those presented in Michel et al. (2011), which are based on version 1 data.  "
   ]
  },
  {
   "cell_type": "markdown",
   "metadata": {},
   "source": [
    "### Part (c) \n",
    "\n",
    "I checked the graph against the graph created by the NGram Viewer. The result looks similar, with the increase in use and peaks matching almost exactly to the years in the NGram Viewer.\n"
   ]
  },
  {
   "cell_type": "markdown",
   "metadata": {},
   "source": [
    "### Part (d)\n",
    "Recreate figure 3a, but use raw mention count rather than the rate of mentons."
   ]
  },
  {
   "cell_type": "code",
   "execution_count": 186,
   "metadata": {
    "scrolled": true
   },
   "outputs": [
    {
     "data": {
      "image/png": "[encoded data removed]",
      "text/plain": [
       "<Figure size 432x288 with 1 Axes>"
      ]
     },
     "metadata": {
      "needs_background": "light"
     },
     "output_type": "display_data"
    }
   ],
   "source": [
    "# Plot frequencies \n",
    "\n",
    "plt.plot(y1883['year'],(y1883['match_count']/100000),color=\"blue\" )\n",
    "plt.plot(y1910['year'],(y1910['match_count']/100000),color=\"red\" )\n",
    "plt.plot(y1950['year'],(y1950['match_count']/100000),color=\"green\" )\n",
    "plt.legend(['1883', '1910', '1950'], loc='upper left')\n",
    "plt.xlabel('Year')\n",
    "plt.ylabel('Raw Counts (1e+5)')\n",
    "plt.show()\n"
   ]
  },
  {
   "cell_type": "markdown",
   "metadata": {},
   "source": []
  },
  {
   "cell_type": "markdown",
   "metadata": {},
   "source": []
  },
  {
   "cell_type": "markdown",
   "metadata": {},
   "source": [
    "### Part (f)\n",
    "Now, using the proportion of mentions, replicate the inset of figure 3a.\n"
   ]
  },
  {
   "cell_type": "code",
   "execution_count": 44,
   "metadata": {},
   "outputs": [],
   "source": [
    "# Filter all 1-grams between years 1875 and 1975\n",
    "yrs = list(range(1875,1976))\n",
    "\n",
    "yr_grams = [str(num) for num in yrs]"
   ]
  },
  {
   "cell_type": "code",
   "execution_count": 46,
   "metadata": {},
   "outputs": [],
   "source": [
    "with open(file1) as infile:\n",
    "    subset = []\n",
    "    for line in infile:\n",
    "        row = line.rstrip('\\n').split('\\t')\n",
    "        if (row[0] in yr_grams) and (int(row[1]) in list(range(1870,2009))):\n",
    "            subset.append(row)\n"
   ]
  },
  {
   "cell_type": "code",
   "execution_count": 79,
   "metadata": {},
   "outputs": [],
   "source": [
    "yr_grams_df = pd.DataFrame(columns=['1gram','year','match_count','volume_count'], data = subset)\n"
   ]
  },
  {
   "cell_type": "code",
   "execution_count": 86,
   "metadata": {
    "scrolled": true
   },
   "outputs": [],
   "source": [
    "yr_grams_df.dtypes\n",
    "yr_grams_df = yr_grams_df.astype('int')"
   ]
  },
  {
   "cell_type": "code",
   "execution_count": 90,
   "metadata": {},
   "outputs": [],
   "source": [
    "# add the column for total counts of 1-grams in the yearly corpus\n",
    "yr_grams_df['tot_match_count'] = yr_grams_df['year'].map(Totcounts.set_index('year')['match_count'])\n"
   ]
  },
  {
   "cell_type": "code",
   "execution_count": 97,
   "metadata": {},
   "outputs": [],
   "source": [
    "# calculate frequency for each 1-gram \n",
    "yr_grams_df['frequency'] = yr_grams_df['match_count']/yr_grams_df['tot_match_count']"
   ]
  },
  {
   "cell_type": "code",
   "execution_count": 152,
   "metadata": {},
   "outputs": [],
   "source": [
    "half_lives = []\n",
    "for year in list(range(1875,1975)):    \n",
    "    \n",
    "    df = yr_grams_df[yr_grams_df['1gram']==year]\n",
    "    \n",
    "    peak_freq = max(df['frequency'])\n",
    "    peak_index = np.where(df[\"frequency\"] == peak_freq)[0][0]\n",
    "    peak_year = 1870 + peak_index\n",
    "    \n",
    "    \n",
    "    half_freq = peak_freq/2\n",
    "    half_life = np.where(df[df['year']>peak_year][\"frequency\"] < half_freq)[0][0]\n",
    "    \n",
    "    half_lives.append(half_life)"
   ]
  },
  {
   "cell_type": "code",
   "execution_count": 181,
   "metadata": {
    "scrolled": true
   },
   "outputs": [
    {
     "data": {
      "image/png": "[encoded data removed]",
      "text/plain": [
       "<Figure size 432x288 with 1 Axes>"
      ]
     },
     "metadata": {
      "needs_background": "light"
     },
     "output_type": "display_data"
    }
   ],
   "source": [
    "\n",
    "plt.scatter(list(range(1875,1975)),half_lives,color= \"blue\" )\n",
    "plt.xlabel('Year_Ngram')\n",
    "plt.ylabel('Half Life (in years)')\n",
    "plt.show()\n"
   ]
  },
  {
   "cell_type": "markdown",
   "metadata": {},
   "source": [
    "Does version 2 of the NGram data produce similar results to those presented in Michel et al. (2011), which are based on version 1 data?\n",
    "\n",
    "No, there doesn't seem to be a clear pattern in the graph above. This is different from the plot which is depited in Michel et al.'s 2011 paper that shows a clear downward trajectory in half lives.\n"
   ]
  },
  {
   "cell_type": "markdown",
   "metadata": {},
   "source": []
  },
  {
   "cell_type": "code",
   "execution_count": null,
   "metadata": {},
   "outputs": [],
   "source": []
  }
 ],
 "metadata": {
  "kernelspec": {
   "display_name": "Python 3",
   "language": "python",
   "name": "python3"
  },
  "language_info": {
   "codemirror_mode": {
    "name": "ipython",
    "version": 3
   },
   "file_extension": ".py",
   "mimetype": "text/x-python",
   "name": "python",
   "nbconvert_exporter": "python",
   "pygments_lexer": "ipython3",
   "version": "3.7.4"
  }
 },
 "nbformat": 4,
 "nbformat_minor": 2
}
